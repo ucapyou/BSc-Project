{
 "cells": [
  {
   "cell_type": "code",
   "execution_count": 75,
   "metadata": {},
   "outputs": [
    {
     "data": {
      "text/plain": [
       "array([[ 1.e+04,  0.e+00,  1.e+00, -1.e+00,  0.e+00,  0.e+00,  0.e+00,\n",
       "         0.e+00,  0.e+00,  0.e+00,  0.e+00,  0.e+00,  0.e+00,  0.e+00,\n",
       "         0.e+00],\n",
       "       [ 0.e+00,  0.e+00,  0.e+00,  0.e+00,  0.e+00,  0.e+00, -1.e+00,\n",
       "         0.e+00,  0.e+00,  0.e+00,  0.e+00,  0.e+00,  0.e+00,  0.e+00,\n",
       "         0.e+00],\n",
       "       [ 1.e+00,  0.e+00,  0.e+00,  0.e+00,  0.e+00,  1.e+00,  0.e+00,\n",
       "        -1.e+00,  0.e+00,  0.e+00,  0.e+00,  0.e+00,  0.e+00,  0.e+00,\n",
       "         0.e+00],\n",
       "       [-1.e+00,  0.e+00,  0.e+00,  0.e+00,  0.e+00, -1.e+00,  0.e+00,\n",
       "         0.e+00,  0.e+00,  0.e+00, -1.e+00,  0.e+00,  0.e+00,  0.e+00,\n",
       "         0.e+00],\n",
       "       [ 0.e+00,  0.e+00,  0.e+00,  0.e+00,  0.e+00,  0.e+00,  0.e+00,\n",
       "         0.e+00,  0.e+00,  0.e+00,  0.e+00, -1.e+00,  0.e+00,  0.e+00,\n",
       "         0.e+00],\n",
       "       [ 0.e+00,  0.e+00,  1.e+00, -1.e+00,  0.e+00,  1.e+04,  0.e+00,\n",
       "         0.e+00,  0.e+00,  1.e+00,  0.e+00,  0.e+00, -1.e+00,  0.e+00,\n",
       "         0.e+00],\n",
       "       [ 0.e+00, -1.e+00,  0.e+00,  0.e+00,  0.e+00,  0.e+00,  0.e+00,\n",
       "         0.e+00, -1.e+00,  0.e+00,  0.e+00,  0.e+00,  0.e+00,  0.e+00,\n",
       "         0.e+00],\n",
       "       [ 0.e+00,  0.e+00, -1.e+00,  0.e+00,  0.e+00,  0.e+00,  0.e+00,\n",
       "         0.e+00,  0.e+00, -1.e+00,  0.e+00,  0.e+00,  0.e+00,  0.e+00,\n",
       "         0.e+00],\n",
       "       [ 0.e+00,  0.e+00,  0.e+00,  0.e+00,  0.e+00,  0.e+00, -1.e+00,\n",
       "         0.e+00,  0.e+00,  0.e+00,  0.e+00,  0.e+00,  0.e+00,  0.e+00,\n",
       "         0.e+00],\n",
       "       [ 0.e+00,  0.e+00,  0.e+00,  0.e+00,  0.e+00,  1.e+00,  0.e+00,\n",
       "        -1.e+00,  0.e+00,  0.e+00,  0.e+00,  0.e+00,  0.e+00,  0.e+00,\n",
       "         1.e+00],\n",
       "       [ 0.e+00,  0.e+00,  0.e+00, -1.e+00,  0.e+00,  0.e+00,  0.e+00,\n",
       "         0.e+00,  0.e+00,  0.e+00,  0.e+00,  0.e+00, -1.e+00,  0.e+00,\n",
       "         0.e+00],\n",
       "       [ 0.e+00,  0.e+00,  0.e+00,  0.e+00, -1.e+00,  0.e+00,  0.e+00,\n",
       "         0.e+00,  0.e+00,  0.e+00,  0.e+00,  0.e+00,  0.e+00, -1.e+00,\n",
       "         0.e+00],\n",
       "       [ 0.e+00,  0.e+00,  0.e+00,  0.e+00,  0.e+00, -1.e+00,  0.e+00,\n",
       "         0.e+00,  0.e+00,  0.e+00, -1.e+00,  0.e+00,  0.e+00,  0.e+00,\n",
       "        -1.e+00],\n",
       "       [ 0.e+00,  0.e+00,  0.e+00,  0.e+00,  0.e+00,  0.e+00,  0.e+00,\n",
       "         0.e+00,  0.e+00,  0.e+00,  0.e+00, -1.e+00,  0.e+00,  0.e+00,\n",
       "         0.e+00],\n",
       "       [ 0.e+00,  0.e+00,  0.e+00,  0.e+00,  0.e+00,  0.e+00,  0.e+00,\n",
       "         0.e+00,  0.e+00,  1.e+00,  0.e+00,  0.e+00, -1.e+00,  0.e+00,\n",
       "         1.e+04]])"
      ]
     },
     "execution_count": 75,
     "metadata": {},
     "output_type": "execute_result"
    }
   ],
   "source": [
    "import numpy as np\n",
    "\n",
    "L = []\n",
    "index = 0 \n",
    "for i in range(6):\n",
    "    for j in range(i):\n",
    "        L.append([i,j])\n",
    "        index += 1        \n",
    "\n",
    "H = np.zeros((index,index))\n",
    "nb = index\n",
    "epsilon = 0\n",
    "U = 10000\n",
    "t = 1.0\n",
    "for p in range(nb):\n",
    "    H[p,p] = 2*epsilon\n",
    "    if L[p][0] // 2 == L[p][1] // 2 and L[p][0] % 2 != L[p][1] % 2:\n",
    "       H[p,p] += U\n",
    "    for q in range(nb):\n",
    "       if L[p][0] == L[q][1] and L[p][1] % 2 == L[q][0] % 2 and L[p][1] // 2 != L[q][0] // 2 and  np.abs(L[p][1] - L[q][0]) == 2: \n",
    "           H[p,q] = t\n",
    "           H[q,p] = t\n",
    "       elif L[p][1] == L[q][1] and L[p][0] % 2 == L[q][0] % 2 and L[p][0] // 2 != L[q][0] // 2 and np.abs(L[p][0] - L[q][0]) == 2:     \n",
    "           H[p,q] = -t \n",
    "       elif L[p][0] == L[q][0] and L[p][1] % 2 == L[q][1] % 2 and L[p][1] // 2 != L[q][1] // 2 and np.abs(L[p][1] - L[q][1]) == 2:    \n",
    "           H[p,q] = -t\n",
    "H "
   ]
  },
  {
   "cell_type": "code",
   "execution_count": null,
   "metadata": {},
   "outputs": [],
   "source": [
    "H"
   ]
  },
  {
   "cell_type": "code",
   "execution_count": 76,
   "metadata": {},
   "outputs": [],
   "source": [
    "from numpy import linalg as LA\n",
    "evals,evects = LA.eigh(H)"
   ]
  },
  {
   "cell_type": "code",
   "execution_count": 77,
   "metadata": {},
   "outputs": [
    {
     "name": "stdout",
     "output_type": "stream",
     "text": [
      "[-1.41451355e+00 -1.41421356e+00 -1.41421356e+00 -1.41421356e+00\n",
      " -1.99999996e-04 -5.70244496e-14 -1.47364668e-16  9.44392914e-13\n",
      "  1.41391355e+00  1.41421356e+00  1.41421356e+00  1.41421356e+00\n",
      "  1.00000000e+04  1.00000002e+04  1.00000006e+04]\n"
     ]
    }
   ],
   "source": [
    "print(evals)"
   ]
  },
  {
   "cell_type": "code",
   "execution_count": 78,
   "metadata": {
    "scrolled": true
   },
   "outputs": [
    {
     "name": "stdout",
     "output_type": "stream",
     "text": [
      "[-7.07081738e-05 -1.11429976e-10  3.53590878e-01 -3.53590878e-01\n",
      " -1.11022302e-16 -1.41416348e-04 -1.57485535e-10  4.99946964e-01\n",
      " -1.11335472e-10  3.53590878e-01 -4.99946964e-01 -1.43249765e-16\n",
      " -3.53590878e-01 -1.01271400e-16 -7.07081738e-05]\n"
     ]
    }
   ],
   "source": [
    "print(evects[:,0])"
   ]
  },
  {
   "cell_type": "code",
   "execution_count": 27,
   "metadata": {},
   "outputs": [],
   "source": [
    "import matplotlib.pyplot as plt"
   ]
  },
  {
   "cell_type": "code",
   "execution_count": 79,
   "metadata": {},
   "outputs": [],
   "source": [
    "V = np.zeros((6,6))\n",
    "X = evects[:,0]"
   ]
  },
  {
   "cell_type": "code",
   "execution_count": null,
   "metadata": {},
   "outputs": [],
   "source": [
    "\n"
   ]
  },
  {
   "cell_type": "code",
   "execution_count": 82,
   "metadata": {},
   "outputs": [
    {
     "data": {
      "text/plain": [
       "<matplotlib.colorbar.Colorbar at 0x17ea271b048>"
      ]
     },
     "execution_count": 82,
     "metadata": {},
     "output_type": "execute_result"
    },
    {
     "data": {
      "image/png": "[encoded data removed]",
      "text/plain": [
       "<Figure size 288x288 with 2 Axes>"
      ]
     },
     "metadata": {
      "needs_background": "light"
     },
     "output_type": "display_data"
    }
   ],
   "source": [
    "plt.matshow(V,cmap = \"viridis\")\n",
    "X = (0,1,2,3,4,5)\n",
    "Y = (0,1,2,3,4,5)\n",
    "my_Xlabels = [\"LU\", \"LD\",\"MU\", \"MD\", \"RU\", \"RD\"]\n",
    "my_ylabels = [\"LU\", \"LD\",\"MU\", \"MD\", \"RU\", \"RD\",]\n",
    "plt.xticks(X, my_Xlabels)\n",
    "plt.yticks(Y, my_ylabels)\n",
    "plt.xlabel('\\n\\n\\nvisualisation of interaction energy for 3-site 2 elctrons when U = 10000')\n",
    "plt.ylabel(\"Electron 1\")\n",
    "plt.title( \"Electron 2\\n\")\n",
    "plt.colorbar()"
   ]
  },
  {
   "cell_type": "code",
   "execution_count": 80,
   "metadata": {},
   "outputs": [
    {
     "data": {
      "text/plain": [
       "array([-7.07081738e-05, -1.11429976e-10,  3.53590878e-01, -3.53590878e-01,\n",
       "       -1.11022302e-16, -1.41416348e-04, -1.57485535e-10,  4.99946964e-01,\n",
       "       -1.11335472e-10,  3.53590878e-01, -4.99946964e-01, -1.43249765e-16,\n",
       "       -3.53590878e-01, -1.01271400e-16, -7.07081738e-05])"
      ]
     },
     "execution_count": 80,
     "metadata": {},
     "output_type": "execute_result"
    }
   ],
   "source": [
    "X"
   ]
  },
  {
   "cell_type": "code",
   "execution_count": 81,
   "metadata": {},
   "outputs": [],
   "source": [
    "Psum = 0.0\n",
    "for i in range(15):\n",
    "    P = 0.5*((np.abs(X[i]))**2)\n",
    "    Psum += P\n",
    "    V[tuple(L[i])] += P\n",
    "    V[tuple(reversed(tuple(L[i])))] += P\n",
    "    "
   ]
  },
  {
   "cell_type": "code",
   "execution_count": 83,
   "metadata": {},
   "outputs": [
    {
     "data": {
      "text/plain": [
       "array([[0.00000000e+00, 2.49982292e-09, 6.20831982e-21, 6.25132544e-02,\n",
       "        1.24008469e-20, 1.24973483e-01],\n",
       "       [2.49982292e-09, 0.00000000e+00, 6.25132546e-02, 6.16297582e-33,\n",
       "        1.24973484e-01, 1.02602476e-32],\n",
       "       [6.20831982e-21, 6.25132546e-02, 0.00000000e+00, 9.99929169e-09,\n",
       "        6.19779364e-21, 6.25132544e-02],\n",
       "       [6.25132544e-02, 6.16297582e-33, 9.99929169e-09, 0.00000000e+00,\n",
       "        6.25132546e-02, 5.12794819e-33],\n",
       "       [1.24008469e-20, 1.24973484e-01, 6.19779364e-21, 6.25132546e-02,\n",
       "        0.00000000e+00, 2.49982292e-09],\n",
       "       [1.24973483e-01, 1.02602476e-32, 6.25132544e-02, 5.12794819e-33,\n",
       "        2.49982292e-09, 0.00000000e+00]])"
      ]
     },
     "execution_count": 83,
     "metadata": {},
     "output_type": "execute_result"
    }
   ],
   "source": [
    "V"
   ]
  },
  {
   "cell_type": "code",
   "execution_count": null,
   "metadata": {},
   "outputs": [],
   "source": []
  }
 ],
 "metadata": {
  "kernelspec": {
   "display_name": "Python 3",
   "language": "python",
   "name": "python3"
  },
  "language_info": {
   "codemirror_mode": {
    "name": "ipython",
    "version": 3
   },
   "file_extension": ".py",
   "mimetype": "text/x-python",
   "name": "python",
   "nbconvert_exporter": "python",
   "pygments_lexer": "ipython3",
   "version": "3.7.0"
  }
 },
 "nbformat": 4,
 "nbformat_minor": 2
}
