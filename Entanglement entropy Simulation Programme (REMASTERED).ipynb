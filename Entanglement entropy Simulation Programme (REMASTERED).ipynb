{
 "cells": [
  {
   "cell_type": "code",
   "execution_count": 50,
   "metadata": {},
   "outputs": [
    {
     "data": {
      "text/plain": [
       "1.4893005130718189"
      ]
     },
     "execution_count": 50,
     "metadata": {},
     "output_type": "execute_result"
    }
   ],
   "source": [
    "import numpy as np\n",
    "n = 8\n",
    "L = []\n",
    "index = 0 \n",
    "for i in range(n):\n",
    "    for j in range(i):\n",
    "        L.append([i,j])\n",
    "        index += 1        \n",
    "\n",
    "H = np.zeros((index,index))\n",
    "nb = index\n",
    "epsilon = 0\n",
    "U = 0\n",
    "t = 1.0\n",
    "for p in range(nb):\n",
    "    H[p,p] = 2*epsilon\n",
    "    if L[p][0] // 2 == L[p][1] // 2 and L[p][0] % 2 != L[p][1] % 2:\n",
    "       H[p,p] += U\n",
    "    for q in range(nb):\n",
    "       if L[p][0] == L[q][1] and L[p][1] % 2 == L[q][0] % 2 and L[p][1] // 2 != L[q][0] // 2 and  np.abs(L[p][1] - L[q][0]) == 2: \n",
    "           H[p,q] = t\n",
    "           H[q,p] = t\n",
    "       elif L[p][1] == L[q][1] and L[p][0] % 2 == L[q][0] % 2 and L[p][0] // 2 != L[q][0] // 2 and np.abs(L[p][0] - L[q][0]) == 2:     \n",
    "           H[p,q] = -t \n",
    "       elif L[p][0] == L[q][0] and L[p][1] % 2 == L[q][1] % 2 and L[p][1] // 2 != L[q][1] // 2 and np.abs(L[p][1] - L[q][1]) == 2:    \n",
    "           H[p,q] = -t\n",
    "from numpy import linalg as LA\n",
    "\n",
    "evals,evects = LA.eigh(H)\n",
    "\n",
    "X = evects[:,0]\n",
    "\n",
    "psi = np.zeros((n,n))\n",
    "for i in range(nb):\n",
    "    psi[L[i][0], L[i][1]] += (1/np.sqrt(2))*X[i]  \n",
    "    psi[L[i][1], L[i][0]] += (-1/np.sqrt(2))*X[i]\n",
    "Rho = np.zeros((n,n))\n",
    "# The first line in the for loop appends all the elements below the diagonal with (1/np.sqrt(2))*X[i]\n",
    "# The second line in the for loop appends all the elements above the diagonal with (-1/np.sqrt(2))*X[i]\n",
    "# Rho represents our reduced density matrix \n",
    "for m in range(n):\n",
    "    for k in range(n):\n",
    "        for l in range(n):\n",
    "            Rho[m,k] += np.conj(psi[m,l])*psi[k,l]\n",
    "Rhoevals, Rhoevects = LA.eigh(Rho)\n",
    "# The eigenvalues are required to obtain the entanglement entropy\n",
    "S = 0\n",
    "# S represents our entanglement entropy \n",
    "for p in range(n):\n",
    "    if Rhoevals[p] > 0:\n",
    "        S += -(Rhoevals[p])*(np.log(Rhoevals[p]))\n",
    "#The for loop above is used as a way of summing over all the possible eigenvalues needed for S       \n",
    "S"
   ]
  },
  {
   "cell_type": "code",
   "execution_count": 26,
   "metadata": {},
   "outputs": [
    {
     "data": {
      "text/plain": [
       "array([4.69342067e-17, 7.79658836e-17, 5.00000000e-01, 5.00000000e-01])"
      ]
     },
     "execution_count": 26,
     "metadata": {},
     "output_type": "execute_result"
    }
   ],
   "source": [
    "Rhoevals"
   ]
  },
  {
   "cell_type": "code",
   "execution_count": null,
   "metadata": {},
   "outputs": [],
   "source": [
    "Rho"
   ]
  },
  {
   "cell_type": "code",
   "execution_count": null,
   "metadata": {},
   "outputs": [],
   "source": [
    "H"
   ]
  },
  {
   "cell_type": "code",
   "execution_count": null,
   "metadata": {},
   "outputs": [],
   "source": []
  },
  {
   "cell_type": "code",
   "execution_count": null,
   "metadata": {},
   "outputs": [],
   "source": []
  }
 ],
 "metadata": {
  "kernelspec": {
   "display_name": "Python 3",
   "language": "python",
   "name": "python3"
  },
  "language_info": {
   "codemirror_mode": {
    "name": "ipython",
    "version": 3
   },
   "file_extension": ".py",
   "mimetype": "text/x-python",
   "name": "python",
   "nbconvert_exporter": "python",
   "pygments_lexer": "ipython3",
   "version": "3.7.4"
  }
 },
 "nbformat": 4,
 "nbformat_minor": 2
}
