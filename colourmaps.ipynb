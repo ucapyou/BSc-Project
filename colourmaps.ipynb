{
 "cells": [
  {
   "cell_type": "code",
   "execution_count": 24,
   "metadata": {},
   "outputs": [
    {
     "data": {
      "text/plain": [
       "<matplotlib.colorbar.Colorbar at 0x21d96ceff08>"
      ]
     },
     "execution_count": 24,
     "metadata": {},
     "output_type": "execute_result"
    },
    {
     "data": {
      "image/png": "[encoded data removed]",
      "text/plain": [
       "<Figure size 288x288 with 2 Axes>"
      ]
     },
     "metadata": {
      "needs_background": "light"
     },
     "output_type": "display_data"
    }
   ],
   "source": [
    "import numpy as np\n",
    "n = 2\n",
    "L = []\n",
    "index = 0 \n",
    "for i in range(2*n):\n",
    "    for j in range(i):\n",
    "        L.append([i,j])\n",
    "        index += 1        \n",
    "\n",
    "H = np.zeros((index,index))\n",
    "nb = index\n",
    "epsilon = 0\n",
    "U = 0\n",
    "t = 1.0\n",
    "for p in range(nb):\n",
    "    H[p,p] = 2*epsilon\n",
    "    if L[p][0] // 2 == L[p][1] // 2 and L[p][0] % 2 != L[p][1] % 2:\n",
    "        H[p,p] += U\n",
    "    for q in range(nb):\n",
    "        if L[p][0] == L[q][1] and L[p][1] % 2 == L[q][0] % 2 and L[p][1] // 2 != L[q][0] // 2 and  np.abs(L[p][1] - L[q][0]) == 2: \n",
    "            H[p,q] = t\n",
    "            H[q,p] = t\n",
    "        elif L[p][1] == L[q][1] and L[p][0] % 2 == L[q][0] % 2 and L[p][0] // 2 != L[q][0] // 2 and np.abs(L[p][0] - L[q][0]) == 2:     \n",
    "            H[p,q] = -t \n",
    "        elif L[p][0] == L[q][0] and L[p][1] % 2 == L[q][1] % 2 and L[p][1] // 2 != L[q][1] // 2 and np.abs(L[p][1] - L[q][1]) == 2:    \n",
    "            H[p,q] = -t\n",
    "            \n",
    "            \n",
    "from numpy import linalg as LA\n",
    "evals,evects = LA.eigh(H)\n",
    "# 'H' again represents my Hamiltonian matrix\n",
    "V = np.zeros((2*n,2*n))\n",
    "x = evects[:,0]\n",
    "# I stored the eigenvectors of\n",
    "# the Hamiltonian for my Hubbard system\n",
    "# in the variable x.\n",
    "# The elements of V will represent\n",
    "# the probability of its associated basis function.\n",
    "# The elements of V have been\n",
    "# initialised to zero for now.\n",
    "import matplotlib.pyplot as plt\n",
    "\n",
    "Psum = 0.0\n",
    "for i in range(nb):\n",
    "    P = 0.5*((np.abs(x[i]))**2)\n",
    "    Psum += P\n",
    "    V[tuple(L[i])] += P\n",
    "    V[tuple(reversed(tuple(L[i])))] += P\n",
    "\n",
    "# The elements of V have been appended with\n",
    "# the value of the probability of it's associated basis. \n",
    "# This has been achieved with the for loop.\n",
    "\n",
    "plt.matshow(V,cmap = \"viridis\")\n",
    "# X = (0, 1, 2, 3)\n",
    "# Y = (0, 1, 2, 3)\n",
    "states = [\"LU\", \"LD\", \"RU\", \"RD\"]\n",
    "x_pos = np.arange(len(states))\n",
    "plt.xticks(x_pos, states)\n",
    "\n",
    "y_pos = np.arange(len(states))\n",
    "plt.yticks(y_pos, states)\n",
    "# my_Xlabels = [\"LU\", \"LD\", \"RU\", \"RD\"]\n",
    "# my_ylabels = [\"LU\", \"LD\", \"RU\", \"RD\"]\n",
    "\n",
    "# The first letter of the label\n",
    "# denotes the site and the second denotes the spin.\n",
    "# For example, the label 'LU' denotes\n",
    "# an electron on the left site with spin up.\n",
    "\n",
    "#plt.xticks(X, my_Xlabels)\n",
    "#plt.yticks(Y, my_ylabels)\n",
    " \n",
    "plt.ylabel(\"Electron 1\")\n",
    "# The verticle axis (shown on the line just above)\n",
    "# shows all the states electron 1 can be in.\n",
    "plt.title( \"Electron 2\\n\")\n",
    "# The horizontal axis (shown on the line just above)\n",
    "# shows all the states electron 2 can be in.\n",
    "plt.colorbar()"
   ]
  },
  {
   "cell_type": "code",
   "execution_count": 43,
   "metadata": {},
   "outputs": [
    {
     "data": {
      "text/plain": [
       "1.0000000000000002"
      ]
     },
     "execution_count": 43,
     "metadata": {},
     "output_type": "execute_result"
    }
   ],
   "source": [
    "OM = 0\n",
    "# The quanitiy OM represents\n",
    "# the middle site occupation number. \n",
    "for i in range(2,4):    \n",
    "    for j in range(2*n):\n",
    "# Again, n refers to the \n",
    "# number of sites we are dealing with.\n",
    "        \n",
    "# We loop over all the possibilities\n",
    "# where the first electron is on\n",
    "# the middle site\n",
    "        OM += 2*(V[i,j])\n",
    "# The value V[i,j] gives us the\n",
    "# probability of finding electron 1 on the\n",
    "# middle site irrespective \n",
    "# to the position of electron 2.\n",
    "#\n",
    "# The probability of finding\n",
    "# electron 2 on the middle site irrespective \n",
    "# to the position of electron 1 will\n",
    "# also be V[i,j] as V is symmetric.\n",
    "#\n",
    "# Therefore, for this reason, I\n",
    "# doubled my value of V[i,j] and \n",
    "# set it equal to OM.\n",
    "OM"
   ]
  },
  {
   "cell_type": "code",
   "execution_count": 90,
   "metadata": {},
   "outputs": [],
   "source": [
    "M = V[2,0] + V[2,1] + V[2,2] + V[2,3] + V[2,4] + V[2,5] + V[3,0] + V[3,1] + V[3,2] + V[3,3] + V[3,4] + V[3,5] + V[0,2] + V[1,2] + V[4,2] + V[5,2] + V[0,3] + V[1,3] + V[4,3] + V[5,3]  "
   ]
  },
  {
   "cell_type": "code",
   "execution_count": 91,
   "metadata": {},
   "outputs": [
    {
     "data": {
      "text/plain": [
       "0.5001060560098792"
      ]
     },
     "execution_count": 91,
     "metadata": {},
     "output_type": "execute_result"
    }
   ],
   "source": [
    "M"
   ]
  },
  {
   "cell_type": "code",
   "execution_count": 92,
   "metadata": {},
   "outputs": [],
   "source": [
    "R = V[4,0] + V[4,1] + V[4,2] + V[4,3] + V[4,4] + V[4,5] + V[5,0] + V[5,1] + V[5,2] + V[5,3] + V[5,4] + V[5,5] + V[0,4] + V[1,4] + V[2,4] + V[3,4] + V[0,5] + V[1,5] + V[2,5] + V[3,5] "
   ]
  },
  {
   "cell_type": "code",
   "execution_count": 93,
   "metadata": {},
   "outputs": [
    {
     "data": {
      "text/plain": [
       "0.7499469569960575"
      ]
     },
     "execution_count": 93,
     "metadata": {},
     "output_type": "execute_result"
    }
   ],
   "source": [
    "R"
   ]
  },
  {
   "cell_type": "code",
   "execution_count": 484,
   "metadata": {},
   "outputs": [],
   "source": [
    "B = V[0,0] + V[1,0] + V[2,0] + V[3,0] + V[4,0] + V[5,0] + V[0,1] + V[1,1] + V[2,1] + V[3,1] + V[4,1] + V[5,1] + V[0,2] + V[0,3] + V[0,4] + V[0,5] + V[1,2] + V[1,3] + V[1,4] + V[1,5]      "
   ]
  },
  {
   "cell_type": "code",
   "execution_count": 485,
   "metadata": {},
   "outputs": [
    {
     "data": {
      "text/plain": [
       "0.4374999999999999"
      ]
     },
     "execution_count": 485,
     "metadata": {},
     "output_type": "execute_result"
    }
   ],
   "source": [
    "B"
   ]
  },
  {
   "cell_type": "code",
   "execution_count": 802,
   "metadata": {},
   "outputs": [
    {
     "name": "stdout",
     "output_type": "stream",
     "text": [
      "[[1. 1. 1. 1. 1. 1.]\n",
      " [1. 1. 1. 1. 1. 1.]\n",
      " [0. 0. 0. 0. 0. 0.]\n",
      " [0. 0. 0. 0. 0. 0.]\n",
      " [0. 0. 0. 0. 0. 0.]\n",
      " [0. 0. 0. 0. 0. 0.]]\n"
     ]
    }
   ],
   "source": [
    "C = np.zeros((6,6))\n",
    "for e in range(6):\n",
    "    C[e,]"
   ]
  },
  {
   "cell_type": "code",
   "execution_count": 276,
   "metadata": {},
   "outputs": [],
   "source": [
    "D = C[0,0] + C[1,0] + C[2,0] + C[3,0] + C[4,0] + C[5,0] + C[0,1] + C[1,1] + C[2,1] + C[3,1] + C[4,1] + C[5,1] + C[0,2] + C[0,3] + C[0,4] + C[0,5] + C[1,2] + C[1,3] + C[1,4] + C[1,5]      "
   ]
  },
  {
   "cell_type": "code",
   "execution_count": 277,
   "metadata": {},
   "outputs": [
    {
     "data": {
      "text/plain": [
       "20.0"
      ]
     },
     "execution_count": 277,
     "metadata": {},
     "output_type": "execute_result"
    }
   ],
   "source": [
    "D"
   ]
  },
  {
   "cell_type": "code",
   "execution_count": 805,
   "metadata": {},
   "outputs": [],
   "source": [
    "A = np.ones((3,3))"
   ]
  },
  {
   "cell_type": "code",
   "execution_count": 806,
   "metadata": {},
   "outputs": [
    {
     "data": {
      "text/plain": [
       "array([[1., 1., 1.],\n",
       "       [1., 1., 1.],\n",
       "       [1., 1., 1.]])"
      ]
     },
     "execution_count": 806,
     "metadata": {},
     "output_type": "execute_result"
    }
   ],
   "source": [
    "A\n"
   ]
  },
  {
   "cell_type": "code",
   "execution_count": 815,
   "metadata": {},
   "outputs": [],
   "source": [
    "b = 0\n",
    "for i in range(6):\n",
    "    j = 0\n",
    "    b += A[i,j] + A[j,i] \n",
    "f = b - A[0,0]   "
   ]
  },
  {
   "cell_type": "code",
   "execution_count": 816,
   "metadata": {},
   "outputs": [
    {
     "data": {
      "text/plain": [
       "5.0"
      ]
     },
     "execution_count": 816,
     "metadata": {},
     "output_type": "execute_result"
    }
   ],
   "source": [
    "f"
   ]
  },
  {
   "cell_type": "code",
   "execution_count": 23,
   "metadata": {},
   "outputs": [
    {
     "data": {
      "text/plain": [
       "<matplotlib.colorbar.Colorbar at 0x21d96ba9148>"
      ]
     },
     "execution_count": 23,
     "metadata": {},
     "output_type": "execute_result"
    },
    {
     "data": {
      "image/png": "[encoded data removed]",
      "text/plain": [
       "<Figure size 288x288 with 2 Axes>"
      ]
     },
     "metadata": {
      "needs_background": "light"
     },
     "output_type": "display_data"
    }
   ],
   "source": [
    "import numpy as np\n",
    "\n",
    "L = []\n",
    "index = 0 \n",
    "for i in range(4):\n",
    "    for j in range(i):\n",
    "        L.append([i,j])\n",
    "        index += 1        \n",
    "\n",
    "K = np.zeros((index,index))\n",
    "nb = index\n",
    "epsilon = 0\n",
    "U = 0\n",
    "t = 1.0\n",
    "for p in range(nb):\n",
    "    K[p,p] = 2*epsilon\n",
    "    if L[p][0] // 2 == L[p][1] // 2 and L[p][0] % 2 != L[p][1] % 2:\n",
    "        K[p,p] += U\n",
    "    for q in range(nb):\n",
    "        if L[p][0] == L[q][1] and L[p][1] % 2 == L[q][0] % 2 and L[p][1] // 2 != L[q][0] // 2 and  np.abs(L[p][1] - L[q][0]) == 2: \n",
    "            K[p,q] = t\n",
    "            K[q,p] = t\n",
    "        elif L[p][1] == L[q][1] and L[p][0] % 2 == L[q][0] % 2 and L[p][0] // 2 != L[q][0] // 2 and np.abs(L[p][0] - L[q][0]) == 2:     \n",
    "            K[p,q] = -t \n",
    "        elif L[p][0] == L[q][0] and L[p][1] % 2 == L[q][1] % 2 and L[p][1] // 2 != L[q][1] // 2 and np.abs(L[p][1] - L[q][1]) == 2:    \n",
    "            K[p,q] = -t\n",
    "            \n",
    "            \n",
    "from numpy import linalg as LA\n",
    "evals,evects = LA.eigh(K)\n",
    "M = np.zeros((4,4))\n",
    "X = evects[:,0]\n",
    "\n",
    "import matplotlib.pyplot as plt\n",
    "\n",
    "Psum = 0.0\n",
    "for i in range(nb):\n",
    "    P = 0.5*((np.abs(X[i]))**2)\n",
    "    Psum += P\n",
    "    M[tuple(L[i])] += P\n",
    "    M[tuple(reversed(tuple(L[i])))] += P\n",
    "    \n",
    "\n",
    "plt.matshow(V,cmap = \"viridis\")\n",
    "X = (0,1,2,3)\n",
    "Y = (0,1,2,3)\n",
    "my_Xlabels = [\"LU\", \"LD\", \"RU\", \"RD\"]\n",
    "my_ylabels = [\"LU\", \"LD\", \"RU\", \"RD\"]\n",
    "plt.xticks(X, my_Xlabels)\n",
    "plt.yticks(Y, my_ylabels)\n",
    "plt.xlabel(\n",
    "'\\n\\n\\n\\nvisualisation of interaction energy for-site 2 elctrons when U = 0')\n",
    "plt.ylabel(\"Electron 1\")\n",
    "plt.title( \"Electron 2\\n\")\n",
    "plt.colorbar()"
   ]
  },
  {
   "cell_type": "code",
   "execution_count": 26,
   "metadata": {},
   "outputs": [
    {
     "data": {
      "text/plain": [
       "array([[0.00000000e+00, 1.25000000e-01, 6.16297582e-33, 1.25000000e-01],\n",
       "       [1.25000000e-01, 0.00000000e+00, 1.25000000e-01, 0.00000000e+00],\n",
       "       [6.16297582e-33, 1.25000000e-01, 0.00000000e+00, 1.25000000e-01],\n",
       "       [1.25000000e-01, 0.00000000e+00, 1.25000000e-01, 0.00000000e+00]])"
      ]
     },
     "execution_count": 26,
     "metadata": {},
     "output_type": "execute_result"
    }
   ],
   "source": [
    "M"
   ]
  },
  {
   "cell_type": "code",
   "execution_count": 4,
   "metadata": {},
   "outputs": [
    {
     "data": {
      "text/plain": [
       "0.5000000000000003"
      ]
     },
     "execution_count": 4,
     "metadata": {},
     "output_type": "execute_result"
    }
   ],
   "source": [
    "Psum"
   ]
  },
  {
   "cell_type": "code",
   "execution_count": 16,
   "metadata": {},
   "outputs": [
    {
     "data": {
      "text/plain": [
       "0.12499999999999983"
      ]
     },
     "execution_count": 16,
     "metadata": {},
     "output_type": "execute_result"
    }
   ],
   "source": [
    "O = 0\n",
    "for i in range(2):\n",
    "    for j in range(2):\n",
    "        O += 2*(M[i,j])\n",
    "O"
   ]
  },
  {
   "cell_type": "code",
   "execution_count": 709,
   "metadata": {},
   "outputs": [
    {
     "data": {
      "text/plain": [
       "array([ 3.42439736e-02, -5.55111512e-16, -3.69153249e-01,  3.69153249e-01,\n",
       "        0.00000000e+00,  6.84879471e-02, -5.45376467e-16, -4.73216449e-01,\n",
       "       -3.49558234e-16, -3.69153249e-01,  4.73216449e-01, -2.27525572e-17,\n",
       "        3.69153249e-01, -1.45832176e-17,  3.42439736e-02])"
      ]
     },
     "execution_count": 709,
     "metadata": {},
     "output_type": "execute_result"
    }
   ],
   "source": [
    "x"
   ]
  },
  {
   "cell_type": "code",
   "execution_count": 710,
   "metadata": {},
   "outputs": [
    {
     "data": {
      "text/plain": [
       "array([ 3.42439736e-02, -5.55111512e-16, -3.69153249e-01,  3.69153249e-01,\n",
       "        0.00000000e+00,  6.84879471e-02, -5.45376467e-16, -4.73216449e-01,\n",
       "       -3.49558234e-16, -3.69153249e-01,  4.73216449e-01, -2.27525572e-17,\n",
       "        3.69153249e-01, -1.45832176e-17,  3.42439736e-02])"
      ]
     },
     "execution_count": 710,
     "metadata": {},
     "output_type": "execute_result"
    }
   ],
   "source": [
    "evects[:,0] "
   ]
  },
  {
   "cell_type": "code",
   "execution_count": 711,
   "metadata": {},
   "outputs": [
    {
     "data": {
      "text/plain": [
       "array([ 1.47640554e-17,  2.65579601e-02,  8.38678721e-02,  8.38678721e-02,\n",
       "        6.96582396e-01, -3.20050461e-18, -1.47300031e-16, -1.02483156e-16,\n",
       "       -2.65579601e-02, -8.38678721e-02, -1.33439236e-16, -1.53224957e-16,\n",
       "       -8.38678721e-02, -6.96582396e-01, -3.80785746e-17])"
      ]
     },
     "execution_count": 711,
     "metadata": {},
     "output_type": "execute_result"
    }
   ],
   "source": [
    "evects[:,5]"
   ]
  },
  {
   "cell_type": "code",
   "execution_count": 712,
   "metadata": {},
   "outputs": [
    {
     "data": {
      "text/plain": [
       "array([ 3.42439736e-02, -5.55111512e-16, -3.69153249e-01,  3.69153249e-01,\n",
       "        0.00000000e+00,  6.84879471e-02, -5.45376467e-16, -4.73216449e-01,\n",
       "       -3.49558234e-16, -3.69153249e-01,  4.73216449e-01, -2.27525572e-17,\n",
       "        3.69153249e-01, -1.45832176e-17,  3.42439736e-02])"
      ]
     },
     "execution_count": 712,
     "metadata": {},
     "output_type": "execute_result"
    }
   ],
   "source": [
    "x"
   ]
  },
  {
   "cell_type": "code",
   "execution_count": 722,
   "metadata": {},
   "outputs": [
    {
     "data": {
      "text/plain": [
       "array([-2.50790277e+00, -1.41421356e+00, -1.41421356e+00, -1.41421356e+00,\n",
       "       -1.00000000e+00, -2.44971300e-16,  8.19374462e-17,  1.48133143e-16,\n",
       "        2.44359924e-01,  1.00000000e+00,  1.41421356e+00,  1.41421356e+00,\n",
       "        1.41421356e+00,  2.00000000e+00,  3.26354285e+00])"
      ]
     },
     "execution_count": 722,
     "metadata": {},
     "output_type": "execute_result"
    }
   ],
   "source": [
    "evals"
   ]
  },
  {
   "cell_type": "code",
   "execution_count": 8,
   "metadata": {},
   "outputs": [
    {
     "data": {
      "text/plain": [
       "0.5"
      ]
     },
     "execution_count": 8,
     "metadata": {},
     "output_type": "execute_result"
    }
   ],
   "source": [
    "Psum"
   ]
  },
  {
   "cell_type": "code",
   "execution_count": 22,
   "metadata": {},
   "outputs": [
    {
     "data": {
      "text/plain": [
       "array([[0.00000000e+00, 1.25000000e-01, 6.16297582e-33, 1.25000000e-01],\n",
       "       [1.25000000e-01, 0.00000000e+00, 1.25000000e-01, 0.00000000e+00],\n",
       "       [6.16297582e-33, 1.25000000e-01, 0.00000000e+00, 1.25000000e-01],\n",
       "       [1.25000000e-01, 0.00000000e+00, 1.25000000e-01, 0.00000000e+00]])"
      ]
     },
     "execution_count": 22,
     "metadata": {},
     "output_type": "execute_result"
    }
   ],
   "source": [
    "V"
   ]
  },
  {
   "cell_type": "code",
   "execution_count": null,
   "metadata": {},
   "outputs": [],
   "source": []
  }
 ],
 "metadata": {
  "kernelspec": {
   "display_name": "Python 3",
   "language": "python",
   "name": "python3"
  },
  "language_info": {
   "codemirror_mode": {
    "name": "ipython",
    "version": 3
   },
   "file_extension": ".py",
   "mimetype": "text/x-python",
   "name": "python",
   "nbconvert_exporter": "python",
   "pygments_lexer": "ipython3",
   "version": "3.7.4"
  }
 },
 "nbformat": 4,
 "nbformat_minor": 2
}
